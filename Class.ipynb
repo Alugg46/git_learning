{
 "cells": [
  {
   "cell_type": "markdown",
   "id": "5a316602",
   "metadata": {},
   "source": [
    "# 类对象的创建和使用"
   ]
  },
  {
   "cell_type": "code",
   "execution_count": 1,
   "id": "4e22fa31",
   "metadata": {},
   "outputs": [
    {
     "name": "stdout",
     "output_type": "stream",
     "text": [
      "haha ziziz\n"
     ]
    }
   ],
   "source": [
    "class Cl:\n",
    "    #类变量\n",
    "    name = \"C\"\n",
    "    add = \"3W\"\n",
    "    def __init__(self, name, add):\n",
    "        #实例变量\n",
    "        self.name = name\n",
    "        self.add = add\n",
    "        print(name, add)\n",
    "        \n",
    "    def say(self, content):\n",
    "        print(content)\n",
    "\n",
    "\n",
    "alugg = Cl(\"haha\", \"ziziz\")"
   ]
  },
  {
   "cell_type": "code",
   "execution_count": 19,
   "id": "475d7288",
   "metadata": {},
   "outputs": [
    {
     "name": "stdout",
     "output_type": "stream",
     "text": [
      "C 3W\n"
     ]
    }
   ],
   "source": [
    "print(Cl.name, Cl.add)"
   ]
  },
  {
   "cell_type": "code",
   "execution_count": 2,
   "id": "93d592df",
   "metadata": {},
   "outputs": [
    {
     "name": "stdout",
     "output_type": "stream",
     "text": [
      "haha ziziz\n"
     ]
    }
   ],
   "source": [
    "print(alugg.name, alugg.add)"
   ]
  },
  {
   "cell_type": "markdown",
   "id": "3756a762",
   "metadata": {},
   "source": [
    "## 类对象动态添加/删除变量"
   ]
  },
  {
   "cell_type": "code",
   "execution_count": 3,
   "id": "e0d95f69",
   "metadata": {},
   "outputs": [
    {
     "name": "stdout",
     "output_type": "stream",
     "text": [
      "学学学\n",
      "Pythonhaha http:////\n"
     ]
    }
   ],
   "source": [
    "# 修改实例变量\n",
    "alugg.name = \"Pythonhaha\"\n",
    "alugg.add = \"http:////\"\n",
    "#调用方法\n",
    "alugg.say(\"学学学\")\n",
    "print(alugg.name, alugg.add)"
   ]
  },
  {
   "cell_type": "code",
   "execution_count": 5,
   "id": "4141ad47",
   "metadata": {},
   "outputs": [
    {
     "name": "stdout",
     "output_type": "stream",
     "text": [
      "159.9\n"
     ]
    }
   ],
   "source": [
    "#为Clang对象添加一个实例变量\n",
    "alugg.money = 159.9\n",
    "print(alugg.money)"
   ]
  },
  {
   "cell_type": "code",
   "execution_count": 6,
   "id": "0ce08a45",
   "metadata": {},
   "outputs": [
    {
     "ename": "AttributeError",
     "evalue": "'Cl' object has no attribute 'money'",
     "output_type": "error",
     "traceback": [
      "\u001b[1;31m---------------------------------------------------------------------------\u001b[0m",
      "\u001b[1;31mAttributeError\u001b[0m                            Traceback (most recent call last)",
      "\u001b[1;32m~\\AppData\\Local\\Temp/ipykernel_14592/493986210.py\u001b[0m in \u001b[0;36m<module>\u001b[1;34m\u001b[0m\n\u001b[0;32m      2\u001b[0m \u001b[1;32mdel\u001b[0m \u001b[0malugg\u001b[0m\u001b[1;33m.\u001b[0m\u001b[0mmoney\u001b[0m\u001b[1;33m\u001b[0m\u001b[1;33m\u001b[0m\u001b[0m\n\u001b[0;32m      3\u001b[0m \u001b[1;33m\u001b[0m\u001b[0m\n\u001b[1;32m----> 4\u001b[1;33m \u001b[0mprint\u001b[0m\u001b[1;33m(\u001b[0m\u001b[0malugg\u001b[0m\u001b[1;33m.\u001b[0m\u001b[0mmoney\u001b[0m\u001b[1;33m)\u001b[0m\u001b[1;33m\u001b[0m\u001b[1;33m\u001b[0m\u001b[0m\n\u001b[0m",
      "\u001b[1;31mAttributeError\u001b[0m: 'Cl' object has no attribute 'money'"
     ]
    }
   ],
   "source": [
    "#删除money实例变量\n",
    "del alugg.money\n",
    "\n",
    "print(alugg.money)"
   ]
  },
  {
   "cell_type": "markdown",
   "id": "76c05099",
   "metadata": {},
   "source": [
    "因为已经删除了"
   ]
  },
  {
   "cell_type": "markdown",
   "id": "792d7338",
   "metadata": {},
   "source": [
    "## 类对象添加方法"
   ]
  },
  {
   "cell_type": "code",
   "execution_count": 10,
   "id": "9464bd9e",
   "metadata": {},
   "outputs": [
    {
     "name": "stdout",
     "output_type": "stream",
     "text": [
      "---info函数— <__main__.Cl object at 0x00000198B96152E0>\n"
     ]
    },
    {
     "ename": "AttributeError",
     "evalue": "'Cl' object has no attribute 'info'",
     "output_type": "error",
     "traceback": [
      "\u001b[1;31m---------------------------------------------------------------------------\u001b[0m",
      "\u001b[1;31mAttributeError\u001b[0m                            Traceback (most recent call last)",
      "\u001b[1;32m~\\AppData\\Local\\Temp/ipykernel_14592/2389731276.py\u001b[0m in \u001b[0;36m<module>\u001b[1;34m\u001b[0m\n\u001b[0;32m      6\u001b[0m \u001b[1;31m#需要手动将调用者绑定到第一个参数\u001b[0m\u001b[1;33m\u001b[0m\u001b[1;33m\u001b[0m\u001b[0m\n\u001b[0;32m      7\u001b[0m \u001b[0malugg\u001b[0m\u001b[1;33m.\u001b[0m\u001b[0mfoo\u001b[0m\u001b[1;33m(\u001b[0m\u001b[0malugg\u001b[0m\u001b[1;33m)\u001b[0m\u001b[1;33m\u001b[0m\u001b[1;33m\u001b[0m\u001b[0m\n\u001b[1;32m----> 8\u001b[1;33m \u001b[0malugg\u001b[0m\u001b[1;33m.\u001b[0m\u001b[0minfo\u001b[0m\u001b[1;33m(\u001b[0m\u001b[1;33m)\u001b[0m\u001b[1;33m\u001b[0m\u001b[1;33m\u001b[0m\u001b[0m\n\u001b[0m\u001b[0;32m      9\u001b[0m \u001b[1;31m# #使用lambda表达式赋值\u001b[0m\u001b[1;33m\u001b[0m\u001b[1;33m\u001b[0m\u001b[0m\n\u001b[0;32m     10\u001b[0m \u001b[1;31m# Clang.bar = lambda self: print('--lambda表达式--', self)\u001b[0m\u001b[1;33m\u001b[0m\u001b[1;33m\u001b[0m\u001b[0m\n",
      "\u001b[1;31mAttributeError\u001b[0m: 'Cl' object has no attribute 'info'"
     ]
    }
   ],
   "source": [
    "# def info(self):\n",
    "#     print(\"---info函数—\",self)\n",
    "# #使用info对Clang的foo方法赋值\n",
    "# alugg.foo = info \n",
    "\n",
    "# #需要手动将调用者绑定到第一个参数\n",
    "# alugg.foo(alugg)\n",
    "# alugg.info()\n",
    "# # #使用lambda表达式赋值\n",
    "# # Clang.bar = lambda self: print('--lambda表达式--', self)\n",
    "# # clanguage.bar(clanguage)"
   ]
  },
  {
   "cell_type": "code",
   "execution_count": 1,
   "id": "45be4725",
   "metadata": {},
   "outputs": [],
   "source": [
    "#不需要手动给self传值的方法"
   ]
  },
  {
   "cell_type": "code",
   "execution_count": 11,
   "id": "8dbd02a2",
   "metadata": {},
   "outputs": [
    {
     "name": "stdout",
     "output_type": "stream",
     "text": [
      "---info函数— hathasss\n"
     ]
    }
   ],
   "source": [
    "def info(self, content):\n",
    "    print(\"---info函数— %s\" % content)\n",
    "    \n",
    "from types import MethodType\n",
    "alugg.info = MethodType(info, alugg)\n",
    "alugg.info(\"hathasss\")"
   ]
  },
  {
   "cell_type": "markdown",
   "id": "86a25182",
   "metadata": {},
   "source": [
    "# Self解释"
   ]
  },
  {
   "cell_type": "code",
   "execution_count": 14,
   "id": "a21f759f",
   "metadata": {},
   "outputs": [
    {
     "name": "stdout",
     "output_type": "stream",
     "text": [
      "正在执行构造函数\n",
      "<__main__.Person object at 0x00000286F91D5190> 正在学习\n",
      "正在执行构造函数\n",
      "<__main__.Person object at 0x00000286F8BEC0D0> 正在学习\n"
     ]
    }
   ],
   "source": [
    "class Person:\n",
    "    def __init__(self):\n",
    "        print(\"正在执行构造函数\")\n",
    "    def study(self):\n",
    "        print(self, \"正在学习\")\n",
    "\n",
    "Alugg = Person()\n",
    "Alugg.study()\n",
    "Yuanyuan = Person()\n",
    "Yuanyuan.study()"
   ]
  },
  {
   "cell_type": "markdown",
   "id": "90e314c4",
   "metadata": {},
   "source": [
    "study() 中的 self 代表该方法的调用者，即谁调用该方法，那么 self 就代表谁"
   ]
  },
  {
   "cell_type": "code",
   "execution_count": 12,
   "id": "46344ef4",
   "metadata": {},
   "outputs": [
    {
     "name": "stdout",
     "output_type": "stream",
     "text": [
      "haha\n",
      "zizi\n"
     ]
    }
   ],
   "source": [
    "class Person:\n",
    "    name = \"xxxx\"\n",
    "    def __init__(self,name):\n",
    "        self.name = name\n",
    "\n",
    "Alugg = Person(\"haha\")\n",
    "print(Alugg.name)\n",
    "Lli = Person(\"zizi\")\n",
    "print(Lli.name)"
   ]
  },
  {
   "cell_type": "markdown",
   "id": "f09918fe",
   "metadata": {},
   "source": [
    "zhangsan 在进行初始化时，调用的构造函数中 self 代表的是 zhangsan"
   ]
  },
  {
   "cell_type": "code",
   "execution_count": 16,
   "id": "26c3c000",
   "metadata": {},
   "outputs": [
    {
     "data": {
      "text/plain": [
       "<bound method Person.who of <__main__.Person object at 0x00000286F8CC5490>>"
      ]
     },
     "execution_count": 16,
     "metadata": {},
     "output_type": "execute_result"
    }
   ],
   "source": [
    "class Person:\n",
    "    def who(self):\n",
    "        print(self)\n",
    "\n",
    "zhangsan = Person()\n",
    "zhangsan.who"
   ]
  },
  {
   "cell_type": "markdown",
   "id": "d2e3f98e",
   "metadata": {},
   "source": [
    "# 类属性 实例属性"
   ]
  },
  {
   "cell_type": "markdown",
   "id": "1bb274da",
   "metadata": {},
   "source": [
    "## 类属性 "
   ]
  },
  {
   "cell_type": "code",
   "execution_count": 27,
   "id": "acade6c6",
   "metadata": {},
   "outputs": [],
   "source": [
    "class CLanguage :\n",
    "    # 下面定义了2个类变量\n",
    "    name = \"C语言中文网\"\n",
    "    add = \"http://c.biancheng.net\"\n",
    "    # 下面定义了一个say实例方法\n",
    "    def say(self, content):\n",
    "        print(content)"
   ]
  },
  {
   "cell_type": "markdown",
   "id": "db99322f",
   "metadata": {},
   "source": [
    "类变量的特点是，所有类的实例化对象都同时共享类变量"
   ]
  },
  {
   "cell_type": "code",
   "execution_count": 25,
   "id": "7b2cbe9d",
   "metadata": {},
   "outputs": [
    {
     "name": "stdout",
     "output_type": "stream",
     "text": [
      "C语言中文网\n",
      "http://c.biancheng.net\n",
      "Python教程\n",
      "http://c.biancheng.net/python\n"
     ]
    }
   ],
   "source": [
    "#使用类名直接调用\n",
    "print(CLanguage.name)\n",
    "print(CLanguage.add)\n",
    "#修改类变量的值\n",
    "CLanguage.name = \"Python教程\"\n",
    "CLanguage.add = \"http://c.biancheng.net/python\"\n",
    "print(CLanguage.name)\n",
    "print(CLanguage.add)"
   ]
  },
  {
   "cell_type": "markdown",
   "id": "88fbce01",
   "metadata": {},
   "source": [
    "通过类名不仅可以调用类变量，也可以修改它的值。"
   ]
  },
  {
   "cell_type": "markdown",
   "id": "60894bac",
   "metadata": {},
   "source": [
    "也可以使用类对象来调用所属类中的类变量（此方式不推荐使用，原因后续会讲）"
   ]
  },
  {
   "cell_type": "code",
   "execution_count": 28,
   "id": "83174d19",
   "metadata": {},
   "outputs": [
    {
     "name": "stdout",
     "output_type": "stream",
     "text": [
      "C语言中文网\n",
      "http://c.biancheng.net\n"
     ]
    }
   ],
   "source": [
    "Alug = CLanguage()\n",
    "print(Alug.name)\n",
    "print(Alug.add)"
   ]
  },
  {
   "cell_type": "markdown",
   "id": "1e347443",
   "metadata": {},
   "source": [
    "因为类变量为所有实例化对象共有，通过类名修改类变量的值，会影响所有的实例化对象"
   ]
  },
  {
   "cell_type": "code",
   "execution_count": 29,
   "id": "3516de9d",
   "metadata": {},
   "outputs": [
    {
     "name": "stdout",
     "output_type": "stream",
     "text": [
      "修改前，各类对象中类变量的值：\n",
      "C语言中文网\n",
      "http://c.biancheng.net\n",
      "C语言中文网\n",
      "http://c.biancheng.net\n"
     ]
    }
   ],
   "source": [
    "print(\"修改前，各类对象中类变量的值：\")\n",
    "clang1 = CLanguage()\n",
    "print(clang1.name)\n",
    "print(clang1.add)\n",
    "clang2 = CLanguage()\n",
    "print(clang2.name)\n",
    "print(clang2.add)"
   ]
  },
  {
   "cell_type": "code",
   "execution_count": 30,
   "id": "ee17edfb",
   "metadata": {},
   "outputs": [
    {
     "name": "stdout",
     "output_type": "stream",
     "text": [
      "修改后，各类对象中类变量的值：\n",
      "Python教程\n",
      "http://c.biancheng.net/python\n",
      "Python教程\n",
      "http://c.biancheng.net/python\n"
     ]
    }
   ],
   "source": [
    "print(\"修改后，各类对象中类变量的值：\")\n",
    "CLanguage.name = \"Python教程\"\n",
    "CLanguage.add = \"http://c.biancheng.net/python\"\n",
    "print(clang1.name)\n",
    "print(clang1.add)\n",
    "print(clang2.name)\n",
    "print(clang2.add)"
   ]
  },
  {
   "cell_type": "markdown",
   "id": "e226a456",
   "metadata": {},
   "source": [
    "注意无法通过生成的类对象，来修改类变量的"
   ]
  },
  {
   "cell_type": "markdown",
   "id": "71f0d196",
   "metadata": {},
   "source": [
    "动态地为类添加类变量"
   ]
  },
  {
   "cell_type": "code",
   "execution_count": 31,
   "id": "0b2232f3",
   "metadata": {},
   "outputs": [
    {
     "name": "stdout",
     "output_type": "stream",
     "text": [
      "13\n"
     ]
    }
   ],
   "source": [
    "clang = CLanguage()\n",
    "CLanguage.catalog = 13\n",
    "print(clang.catalog)"
   ]
  },
  {
   "cell_type": "markdown",
   "id": "8d9a764a",
   "metadata": {},
   "source": [
    "## 实例变量"
   ]
  },
  {
   "cell_type": "code",
   "execution_count": 38,
   "id": "2fbc178b",
   "metadata": {},
   "outputs": [],
   "source": [
    "class CLanguage :\n",
    "    name=\"xixi\"\n",
    "    add = \"haha\"\n",
    "    def __init__(self):\n",
    "        self.name = \"C语言中文网\"\n",
    "        self.add = \"http://c.biancheng.net\"\n",
    "    # 下面定义了一个say实例方法\n",
    "    def say(self):\n",
    "        self.catalog = 13"
   ]
  },
  {
   "cell_type": "markdown",
   "id": "973c264b",
   "metadata": {},
   "source": [
    "此 CLanguage 类中，name、add 以及 catalog 都是实例变量。其中，由于 __init__() 函数在创建类对象时会自动调用，而 say() 方法需要类对象手动调用。因此，CLanguage 类的类对象都会包含 name 和 add 实例变量，而只有调用了 say() 方法的类对象，才包含 catalog 实例变量。\n"
   ]
  },
  {
   "cell_type": "code",
   "execution_count": 33,
   "id": "bc721ab3",
   "metadata": {},
   "outputs": [
    {
     "name": "stdout",
     "output_type": "stream",
     "text": [
      "C语言中文网\n",
      "http://c.biancheng.net\n"
     ]
    }
   ],
   "source": [
    "clang = CLanguage()\n",
    "print(clang.name)\n",
    "print(clang.add)"
   ]
  },
  {
   "cell_type": "code",
   "execution_count": 34,
   "id": "8984db3a",
   "metadata": {},
   "outputs": [
    {
     "ename": "AttributeError",
     "evalue": "'CLanguage' object has no attribute 'catalog'",
     "output_type": "error",
     "traceback": [
      "\u001b[1;31m---------------------------------------------------------------------------\u001b[0m",
      "\u001b[1;31mAttributeError\u001b[0m                            Traceback (most recent call last)",
      "\u001b[1;32m~\\AppData\\Local\\Temp/ipykernel_49548/2714936001.py\u001b[0m in \u001b[0;36m<module>\u001b[1;34m\u001b[0m\n\u001b[1;32m----> 1\u001b[1;33m \u001b[0mprint\u001b[0m\u001b[1;33m(\u001b[0m\u001b[0mclang\u001b[0m\u001b[1;33m.\u001b[0m\u001b[0mcatalog\u001b[0m\u001b[1;33m)\u001b[0m \u001b[1;31m# 由于没有调用say方法 因此没有catalog\u001b[0m\u001b[1;33m\u001b[0m\u001b[1;33m\u001b[0m\u001b[0m\n\u001b[0m",
      "\u001b[1;31mAttributeError\u001b[0m: 'CLanguage' object has no attribute 'catalog'"
     ]
    }
   ],
   "source": [
    "print(clang.catalog) # 由于没有调用say方法 因此没有catalog"
   ]
  },
  {
   "cell_type": "code",
   "execution_count": 35,
   "id": "ceb5eaf8",
   "metadata": {},
   "outputs": [
    {
     "name": "stdout",
     "output_type": "stream",
     "text": [
      "C语言中文网\n",
      "http://c.biancheng.net\n",
      "13\n"
     ]
    }
   ],
   "source": [
    "clang2 = CLanguage()\n",
    "print(clang2.name)\n",
    "print(clang2.add)\n",
    "#只有调用 say()，才会拥有 catalog 实例变量\n",
    "clang2.say()\n",
    "print(clang2.catalog)"
   ]
  },
  {
   "cell_type": "markdown",
   "id": "3fe23cbb",
   "metadata": {},
   "source": [
    "类对象修改类变量的值，不是在给“类变量赋值”，而是定义新的实例变量"
   ]
  },
  {
   "cell_type": "code",
   "execution_count": 39,
   "id": "af5d2bbd",
   "metadata": {},
   "outputs": [
    {
     "name": "stdout",
     "output_type": "stream",
     "text": [
      "C语言中文网\n",
      "http://c.biancheng.net\n",
      "Python教程\n",
      "http://c.biancheng.net/python\n",
      "xixi\n",
      "haha\n"
     ]
    }
   ],
   "source": [
    "clang = CLanguage()\n",
    "#clang访问类变量\n",
    "print(clang.name)\n",
    "print(clang.add)\n",
    "clang.name = \"Python教程\"\n",
    "clang.add = \"http://c.biancheng.net/python\"\n",
    "#clang实例变量的值\n",
    "print(clang.name)\n",
    "print(clang.add)\n",
    "#类变量的值\n",
    "print(CLanguage.name)\n",
    "print(CLanguage.add)"
   ]
  },
  {
   "cell_type": "markdown",
   "id": "5c938e0b",
   "metadata": {},
   "source": [
    "通过类对象是无法修改类变量的值的，本质其实是给 clang 对象新添加 name 和 add 这 2 个实例变量。"
   ]
  },
  {
   "cell_type": "markdown",
   "id": "95b7b3cc",
   "metadata": {},
   "source": [
    "和类变量不同，通过某个对象修改实例变量的值，不会影响类的其它实例化对象，更不会影响同名的类变量"
   ]
  },
  {
   "cell_type": "code",
   "execution_count": 40,
   "id": "b02baaf5",
   "metadata": {},
   "outputs": [],
   "source": [
    "class CLanguage :\n",
    "    name = \"xxx\"  #类变量\n",
    "    add = \"http://\"  #类变量\n",
    "    def __init__(self):\n",
    "        self.name = \"C语言中文网\"   #实例变量\n",
    "        self.add = \"http://c.biancheng.net\"   #实例变量\n",
    "    # 下面定义了一个say实例方法\n",
    "    def say(self):\n",
    "        self.catalog = 13  #实例变量"
   ]
  },
  {
   "cell_type": "code",
   "execution_count": 41,
   "id": "c4f431e9",
   "metadata": {},
   "outputs": [
    {
     "name": "stdout",
     "output_type": "stream",
     "text": [
      "python教程\n",
      "http://c.biancheng.net/python\n",
      "C语言中文网\n",
      "http://c.biancheng.net\n",
      "xxx\n",
      "http://\n"
     ]
    }
   ],
   "source": [
    "clang = CLanguage()\n",
    "#修改 clang 对象的实例变量\n",
    "clang.name = \"python教程\"\n",
    "clang.add = \"http://c.biancheng.net/python\"\n",
    "print(clang.name)\n",
    "print(clang.add)\n",
    "\n",
    "clang2 = CLanguage()\n",
    "print(clang2.name)\n",
    "print(clang2.add)\n",
    "#输出类变量的值\n",
    "print(CLanguage.name)\n",
    "print(CLanguage.add)"
   ]
  },
  {
   "cell_type": "markdown",
   "id": "ed97506b",
   "metadata": {},
   "source": [
    "对象不一样， 自己家装修，不会影响别人家的装修初始布局"
   ]
  },
  {
   "cell_type": "code",
   "execution_count": 42,
   "id": "7354e3e8",
   "metadata": {},
   "outputs": [
    {
     "name": "stdout",
     "output_type": "stream",
     "text": [
      "30\n"
     ]
    }
   ],
   "source": [
    "clang.money = 30\n",
    "print(clang.money)"
   ]
  },
  {
   "cell_type": "markdown",
   "id": "1dcdbbbb",
   "metadata": {},
   "source": [
    "Python 只支持为特定的对象添加实例变量"
   ]
  },
  {
   "cell_type": "markdown",
   "id": "eb5b29c7",
   "metadata": {},
   "source": [
    "## 局部变量"
   ]
  },
  {
   "cell_type": "markdown",
   "id": "a08ffcbd",
   "metadata": {},
   "source": [
    "除了实例变量，类方法中还可以定义局部变量。和前者不同，局部变量直接以“变量名=值”的方式进行定义"
   ]
  },
  {
   "cell_type": "code",
   "execution_count": 43,
   "id": "467b218a",
   "metadata": {},
   "outputs": [
    {
     "name": "stdout",
     "output_type": "stream",
     "text": [
      "优惠后的价格为： 80.0\n"
     ]
    }
   ],
   "source": [
    "class CLanguage :\n",
    "    # 下面定义了一个say实例方法\n",
    "    def count(self,money):\n",
    "        sale = 0.8*money\n",
    "        print(\"优惠后的价格为：\",sale)\n",
    "clang = CLanguage()\n",
    "clang.count(100)"
   ]
  },
  {
   "cell_type": "markdown",
   "id": "f7d7a2cd",
   "metadata": {},
   "source": [
    "定义局部变量是为了所在类方法功能的实现。需要注意的一点是，局部变量只能用于所在函数中，函数执行完成后，局部变量也会被销毁。"
   ]
  },
  {
   "cell_type": "markdown",
   "id": "48fe7625",
   "metadata": {},
   "source": [
    "# 实例方法、静态方法和类方法"
   ]
  },
  {
   "cell_type": "markdown",
   "id": "20ba62f7",
   "metadata": {},
   "source": [
    "## 类实例方法"
   ]
  },
  {
   "cell_type": "markdown",
   "id": "0776c3f4",
   "metadata": {},
   "source": [
    "在类中定义的方法默认都是实例方法。类的构造方法（构造函数__init__）理论上也属于实例方法"
   ]
  },
  {
   "cell_type": "markdown",
   "id": "5e89f5dd",
   "metadata": {},
   "source": [
    "实例方法最大的特点就是，它最少也要包含一个 self 参数，用于绑定调用此方法的实例对象"
   ]
  },
  {
   "cell_type": "code",
   "execution_count": 44,
   "id": "5b3e39c7",
   "metadata": {},
   "outputs": [],
   "source": [
    "class CLanguage:\n",
    "    #类构造方法，也属于实例方法\n",
    "    def __init__(self):\n",
    "        self.name = \"C语言中文网\"\n",
    "        self.add = \"http://c.biancheng.net\"\n",
    "    # 下面定义了一个say实例方法\n",
    "    def say(self):\n",
    "        print(\"正在调用 say() 实例方法\")"
   ]
  },
  {
   "cell_type": "markdown",
   "id": "f3aff85f",
   "metadata": {},
   "source": [
    "实例方法通常会用类对象直接调用"
   ]
  },
  {
   "cell_type": "code",
   "execution_count": 45,
   "id": "4620e090",
   "metadata": {},
   "outputs": [
    {
     "name": "stdout",
     "output_type": "stream",
     "text": [
      "正在调用 say() 实例方法\n"
     ]
    }
   ],
   "source": [
    "clang = CLanguage()\n",
    "clang.say()"
   ]
  },
  {
   "cell_type": "markdown",
   "id": "e1000c3e",
   "metadata": {},
   "source": [
    "##############Python 也支持使用类名调用实例方法"
   ]
  },
  {
   "cell_type": "code",
   "execution_count": 46,
   "id": "218080e3",
   "metadata": {},
   "outputs": [
    {
     "name": "stdout",
     "output_type": "stream",
     "text": [
      "正在调用 say() 实例方法\n"
     ]
    }
   ],
   "source": [
    "#类名调用实例方法，需手动给 self 参数传值\n",
    "clang = CLanguage()\n",
    "CLanguage.say(clang)"
   ]
  },
  {
   "cell_type": "markdown",
   "id": "40bf57dc",
   "metadata": {},
   "source": [
    "## 类方法"
   ]
  },
  {
   "cell_type": "markdown",
   "id": "4f8006e2",
   "metadata": {},
   "source": [
    "类方法只能访问类变量，不能访问实例变量"
   ]
  },
  {
   "cell_type": "markdown",
   "id": "c480d484",
   "metadata": {},
   "source": [
    "类方法和实例方法相似，它最少也要包含一个参数，只不过类方法中通常将其命名为 cls，Python 会自动将类本身绑定给 cls 参数（注意，绑定的不是类对象）。也就是说，我们在调用类方法时，无需显式为 cls 参数传参。"
   ]
  },
  {
   "cell_type": "markdown",
   "id": "cb39e6ac",
   "metadata": {},
   "source": [
    "和实例方法最大的不同在于，类方法需要使用＠classmethod修饰符进行修饰"
   ]
  },
  {
   "cell_type": "code",
   "execution_count": 47,
   "id": "35ed64a4",
   "metadata": {},
   "outputs": [],
   "source": [
    "class CLanguage:\n",
    "    #类构造方法，也属于实例方法\n",
    "    def __init__(self):\n",
    "        self.name = \"C语言中文网\"\n",
    "        self.add = \"http://c.biancheng.net\"\n",
    "    #下面定义了一个类方法\n",
    "    @classmethod\n",
    "    def info(cls):\n",
    "        print(\"正在调用类方法\",cls)"
   ]
  },
  {
   "cell_type": "markdown",
   "id": "05dd755d",
   "metadata": {},
   "source": [
    "类方法推荐使用类名直接调用"
   ]
  },
  {
   "cell_type": "code",
   "execution_count": 50,
   "id": "ee5d083d",
   "metadata": {},
   "outputs": [
    {
     "name": "stdout",
     "output_type": "stream",
     "text": [
      "正在调用类方法 <class '__main__.CLanguage'>\n"
     ]
    }
   ],
   "source": [
    "#使用类名直接调用类方法\n",
    "CLanguage.info()"
   ]
  },
  {
   "cell_type": "markdown",
   "id": "b53a2290",
   "metadata": {},
   "source": [
    "EX:无法访问实例变量"
   ]
  },
  {
   "cell_type": "code",
   "execution_count": 173,
   "id": "78f32c73",
   "metadata": {},
   "outputs": [],
   "source": [
    "class Dog:\n",
    "    name = \"stupid dog\"\n",
    "    def __init__(self,name):\n",
    "        self.name = name\n",
    "    @classmethod\n",
    "    def eat(self):\n",
    "        print(\"{}dog is eating\".format(self.name))"
   ]
  },
  {
   "cell_type": "code",
   "execution_count": 174,
   "id": "4e1f91fe",
   "metadata": {},
   "outputs": [
    {
     "name": "stdout",
     "output_type": "stream",
     "text": [
      "stupid dogdog is eating\n"
     ]
    }
   ],
   "source": [
    "p1 = Dog(\"alugg\")\n",
    "p1.eat()"
   ]
  },
  {
   "cell_type": "code",
   "execution_count": 177,
   "id": "787f5004",
   "metadata": {},
   "outputs": [
    {
     "name": "stdout",
     "output_type": "stream",
     "text": [
      "new student Mjj\n",
      "new student Maa\n",
      "new student Mkk\n",
      "3\n",
      "4\n"
     ]
    }
   ],
   "source": [
    "class Student:\n",
    "    stu_num = 0\n",
    "    def __init__(self,name):\n",
    "        self.name = name\n",
    "        Student.stu_num +=1\n",
    "        print(\"new student\",name)\n",
    "        \n",
    "s1 = Student(\"Mjj\")\n",
    "s2 = Student(\"Maa\") \n",
    "s3 = Student(\"Mkk\") \n",
    "print(Student.stu_num)    \n",
    "#但可以作弊，我可以在外面手动增加 而不是生成一个学生才增加一个\n",
    "Student.stu_num +=1\n",
    "print(Student.stu_num) "
   ]
  },
  {
   "cell_type": "code",
   "execution_count": 180,
   "id": "310545fa",
   "metadata": {},
   "outputs": [
    {
     "name": "stdout",
     "output_type": "stream",
     "text": [
      "new student 1\n",
      "new student 2\n",
      "new student 3\n"
     ]
    }
   ],
   "source": [
    "#因此可以尝试类方法\n",
    "class Student:\n",
    "    __stu_num = 0\n",
    "    def __init__(self,name):\n",
    "        self.name = name\n",
    "        self.add_std(self)\n",
    "    \n",
    "    @classmethod\n",
    "    def add_std(cls,obj):\n",
    "        if obj.name:\n",
    "            cls.__stu_num +=1\n",
    "            print(\"new student\", cls.__stu_num)\n",
    "\n",
    "s1 = Student(\"Mjj\")\n",
    "s2 = Student(\"Maa\") \n",
    "s3 = Student(\"Mkk\") \n",
    " \n"
   ]
  },
  {
   "cell_type": "markdown",
   "id": "a595e0c0",
   "metadata": {},
   "source": [
    "## 类静态方法"
   ]
  },
  {
   "cell_type": "markdown",
   "id": "f2307d90",
   "metadata": {},
   "source": [
    "静态方法定义在类这个空间（类命名空间）中，而函数则定义在程序所在的空间（全局命名空间）中"
   ]
  },
  {
   "cell_type": "markdown",
   "id": "b94016d0",
   "metadata": {},
   "source": [
    "静态方法没有类似 self、cls 这样的特殊参数，因此 Python 解释器不会对它包含的参数做任何类或对象的绑定。也正因为如此，类的静态方法中无法调用任何类属性和类方法。"
   ]
  },
  {
   "cell_type": "markdown",
   "id": "a2cb18e3",
   "metadata": {},
   "source": [
    "静态方法需要使用＠staticmethod修饰"
   ]
  },
  {
   "cell_type": "code",
   "execution_count": 51,
   "id": "a76caae4",
   "metadata": {},
   "outputs": [],
   "source": [
    "class CLanguage:\n",
    "    @staticmethod\n",
    "    def info(name,add):\n",
    "        print(name,add)"
   ]
  },
  {
   "cell_type": "code",
   "execution_count": 52,
   "id": "de93b9e2",
   "metadata": {},
   "outputs": [
    {
     "name": "stdout",
     "output_type": "stream",
     "text": [
      "C语言中文网 http://c.biancheng.net\n",
      "Python教程 http://c.biancheng.net/python\n"
     ]
    }
   ],
   "source": [
    "#使用类名直接调用静态方法\n",
    "CLanguage.info(\"C语言中文网\",\"http://c.biancheng.net\")\n",
    "#使用类对象调用静态方法\n",
    "clang = CLanguage()\n",
    "clang.info(\"Python教程\",\"http://c.biancheng.net/python\")"
   ]
  },
  {
   "cell_type": "markdown",
   "id": "8b31ed4c",
   "metadata": {},
   "source": [
    "## 属性方法property"
   ]
  },
  {
   "cell_type": "markdown",
   "id": "5e128b97",
   "metadata": {},
   "source": [
    "把一个方法变成一个静态的属性（变量）"
   ]
  },
  {
   "cell_type": "code",
   "execution_count": null,
   "id": "83561efb",
   "metadata": {},
   "outputs": [],
   "source": [
    "class Flight:\n",
    "    def __init__(self,name):\n",
    "        self.flight_name = name\n",
    "        \n",
    "    def checking_status(self):\n",
    "        print(\"connecting\")\n",
    "        return 1 #1 arrive, 2 departured, 3 cancel\n",
    "    \n",
    "    @property\n",
    "    def flight_status(self):\n",
    "        status = self.checking_status()\n",
    "        if status ==0:\n",
    "            print(\"flight canceled\")\n",
    "        elif status ==1:\n",
    "            print(\"flight arrive\")\n",
    "        elif status ==2:\n",
    "            print(\"flight departured\")\n",
    "        else:\n",
    "            print(\"consult later\")\n",
    "\n",
    "f = Flight(\"CA123\")\n",
    "f.flight_status"
   ]
  },
  {
   "cell_type": "markdown",
   "id": "63220da1",
   "metadata": {},
   "source": [
    "# 类调用实例方法"
   ]
  },
  {
   "cell_type": "markdown",
   "id": "58aef378",
   "metadata": {},
   "source": [
    "通常情况下，我们习惯使用类对象调用类中的实例方法"
   ]
  },
  {
   "cell_type": "markdown",
   "id": "24389f03",
   "metadata": {},
   "source": [
    "但如果想用类调用实例方法，不能像如下这样"
   ]
  },
  {
   "cell_type": "code",
   "execution_count": 54,
   "id": "66157777",
   "metadata": {},
   "outputs": [
    {
     "ename": "TypeError",
     "evalue": "info() missing 1 required positional argument: 'self'",
     "output_type": "error",
     "traceback": [
      "\u001b[1;31m---------------------------------------------------------------------------\u001b[0m",
      "\u001b[1;31mTypeError\u001b[0m                                 Traceback (most recent call last)",
      "\u001b[1;32m~\\AppData\\Local\\Temp/ipykernel_49548/1964951041.py\u001b[0m in \u001b[0;36m<module>\u001b[1;34m\u001b[0m\n\u001b[0;32m      3\u001b[0m         \u001b[0mprint\u001b[0m\u001b[1;33m(\u001b[0m\u001b[1;34m\"我正在学 Python\"\u001b[0m\u001b[1;33m)\u001b[0m\u001b[1;33m\u001b[0m\u001b[1;33m\u001b[0m\u001b[0m\n\u001b[0;32m      4\u001b[0m \u001b[1;31m#通过类名直接调用实例方法\u001b[0m\u001b[1;33m\u001b[0m\u001b[1;33m\u001b[0m\u001b[0m\n\u001b[1;32m----> 5\u001b[1;33m \u001b[0mCLanguage\u001b[0m\u001b[1;33m.\u001b[0m\u001b[0minfo\u001b[0m\u001b[1;33m(\u001b[0m\u001b[1;33m)\u001b[0m\u001b[1;33m\u001b[0m\u001b[1;33m\u001b[0m\u001b[0m\n\u001b[0m",
      "\u001b[1;31mTypeError\u001b[0m: info() missing 1 required positional argument: 'self'"
     ]
    }
   ],
   "source": [
    "class CLanguage:\n",
    "    def info(self):\n",
    "        print(\"我正在学 Python\")\n",
    "#通过类名直接调用实例方法\n",
    "CLanguage.info()"
   ]
  },
  {
   "cell_type": "markdown",
   "id": "cb2c9bf2",
   "metadata": {},
   "source": [
    "最后一行报错信息提示我们，调用 info() 类方式时缺少给 self 参数传参。这意味着，和使用类对象调用实例方法不同，通过类名直接调用实例方法时，Python 并不会自动给 self 参数传值。"
   ]
  },
  {
   "cell_type": "code",
   "execution_count": 55,
   "id": "19f92b80",
   "metadata": {},
   "outputs": [
    {
     "name": "stdout",
     "output_type": "stream",
     "text": [
      "我正在学 Python\n"
     ]
    }
   ],
   "source": [
    "class CLanguage:\n",
    "    def info(self):\n",
    "        print(\"我正在学 Python\")\n",
    "clang = CLanguage()\n",
    "#通过类名直接调用实例方法\n",
    "CLanguage.info(clang)"
   ]
  },
  {
   "cell_type": "markdown",
   "id": "05d19514",
   "metadata": {},
   "source": [
    "通过手动将 clang 这个类对象传给了 self 参数，使得程序得以正确执行。实际上，这里调用实例方法的形式完全是等价于 clang.info()"
   ]
  },
  {
   "cell_type": "code",
   "execution_count": 56,
   "id": "42869d11",
   "metadata": {},
   "outputs": [
    {
     "name": "stdout",
     "output_type": "stream",
     "text": [
      "zhangsan 正在学 Python\n"
     ]
    }
   ],
   "source": [
    "class CLanguage:\n",
    "    def info(self):\n",
    "        print(self,\"正在学 Python\")\n",
    "#通过类名直接调用实例方法\n",
    "CLanguage.info(\"zhangsan\")"
   ]
  },
  {
   "cell_type": "markdown",
   "id": "a042ca1f",
   "metadata": {},
   "source": [
    "我们手动为 self 参数传值，但并没有规定必须传一个该类的对象，其实完全可以任意传入一个参数|"
   ]
  },
  {
   "cell_type": "markdown",
   "id": "ce722993",
   "metadata": {},
   "source": [
    "# Property() 定义属性"
   ]
  },
  {
   "cell_type": "markdown",
   "id": "0ed983ce",
   "metadata": {},
   "source": [
    "在不破坏类封装原则的基础上，为了能够有效操作类中的属性，类中应包含读（或写）类属性的多个 getter（或 setter）方法，这样就可以通过“类对象.方法(参数)”的方式操作属性，例如："
   ]
  },
  {
   "cell_type": "code",
   "execution_count": 21,
   "id": "4cc59d75",
   "metadata": {},
   "outputs": [],
   "source": [
    "class CLanguage:\n",
    "    #构造函数\n",
    "    def __init__(self,name):\n",
    "        self.name = name \n",
    "    #设置 name 属性值的函数 \n",
    "    def setname(self,name):\n",
    "        self.name = name\n",
    "    #访问nema属性值的函数\n",
    "    def getname(self):\n",
    "        return self.name\n",
    "    #删除name属性值的函数\n",
    "    def delname(self):\n",
    "        self.name=\"xxx\""
   ]
  },
  {
   "cell_type": "code",
   "execution_count": 22,
   "id": "ce22121e",
   "metadata": {},
   "outputs": [
    {
     "name": "stdout",
     "output_type": "stream",
     "text": [
      "C语言\n",
      "Python教程\n",
      "xxx\n"
     ]
    }
   ],
   "source": [
    "clang = CLanguage(\"C语言\")\n",
    "#获取name属性值\n",
    "print(clang.getname())\n",
    "#设置name属性值\n",
    "clang.setname(\"Python教程\")\n",
    "print(clang.getname())\n",
    "#删除name属性值\n",
    "clang.delname()\n",
    "print(clang.getname())"
   ]
  },
  {
   "cell_type": "markdown",
   "id": "b0e30bd4",
   "metadata": {},
   "source": [
    "## property() 函数"
   ]
  },
  {
   "cell_type": "markdown",
   "id": "e92737e6",
   "metadata": {},
   "source": [
    "属性名=property(fget=None, fset=None, fdel=None, doc=None)"
   ]
  },
  {
   "cell_type": "code",
   "execution_count": 23,
   "id": "6e6eeaea",
   "metadata": {},
   "outputs": [
    {
     "name": "stdout",
     "output_type": "stream",
     "text": [
      "Help on property:\n",
      "\n",
      "    指明出处\n",
      "\n",
      "C语言中文网\n",
      "Python教程\n",
      "xxx\n"
     ]
    }
   ],
   "source": [
    "class CLanguage:\n",
    "    #构造函数\n",
    "    def __init__(self,n):\n",
    "        self.__name = n\n",
    "    #设置 name 属性值的函数\n",
    "    def setname(self,n):\n",
    "        self.__name = n\n",
    "    #访问nema属性值的函数\n",
    "    def getname(self):\n",
    "        return self.__name\n",
    "    #删除name属性值的函数\n",
    "    def delname(self):\n",
    "        self.__name=\"xxx\"\n",
    "    #为name 属性配置 property() 函数\n",
    "    name = property(getname, setname, delname, '指明出处')\n",
    "    \n",
    "#调取说明文档的 2 种方式\n",
    "#print(CLanguage.name.__doc__)\n",
    "help(CLanguage.name)\n",
    "clang = CLanguage(\"C语言中文网\")\n",
    "#调用 getname() 方法\n",
    "print(clang.name)\n",
    "#调用 setname() 方法\n",
    "clang.name=\"Python教程\"\n",
    "print(clang.name)\n",
    "#调用 delname() 方法\n",
    "del clang.name\n",
    "print(clang.name)"
   ]
  },
  {
   "cell_type": "markdown",
   "id": "57ad29e3",
   "metadata": {},
   "source": [
    "在此程序中，由于 getname() 方法中需要返回 name 属性，如果使用 self.name 的话，其本身又被调用 getname()，这将会先入无限死循环。为了避免这种情况的出现，程序中的 name 属性必须设置为私有属性，即使用 __name（前面有 2 个下划线）。"
   ]
  },
  {
   "cell_type": "markdown",
   "id": "729c049d",
   "metadata": {},
   "source": [
    "当然，property() 函数也可以少传入几个参数。以上面的程序为例，我们可以修改 property() 函数如下所示"
   ]
  },
  {
   "cell_type": "markdown",
   "id": "906bfedb",
   "metadata": {},
   "source": [
    "name = property(getname, setname)"
   ]
  },
  {
   "cell_type": "markdown",
   "id": "b529e9fc",
   "metadata": {},
   "source": [
    "这意味着，name 是一个可读写的属性，但不能删除，因为 property() 函数中并没有为 name 配置用于函数该属性的方法。也就是说，即便 CLanguage 类中设计有 delname() 函数，这种情况下也不能用来删除 name 属性。 "
   ]
  },
  {
   "cell_type": "code",
   "execution_count": null,
   "id": "2901dc2c",
   "metadata": {},
   "outputs": [],
   "source": [
    "name = property(getname)    # name 属性可读，不可写，也不能删除\n",
    "name = property(getname, setname,delname)    #name属性可读、可写、也可删除，就是没有说明文档"
   ]
  },
  {
   "cell_type": "markdown",
   "id": "d16e1492",
   "metadata": {},
   "source": [
    "# 封装(Encapsulation)"
   ]
  },
  {
   "cell_type": "markdown",
   "id": "1bf75c1b",
   "metadata": {},
   "source": [
    "public：公有属性的类变量和类函数，在类的外部、类内部以及子类（后续讲继承特性时会做详细介绍）中，都可以正常访问；\n",
    "private：私有属性的类变量和类函数，只能在本类内部使用，类的外部以及子类都无法使用。\n"
   ]
  },
  {
   "cell_type": "markdown",
   "id": "1532e8d6",
   "metadata": {},
   "source": [
    "默认情况下，Python 类中的变量和方法都是公有（public）的，它们的名称前都没有下划线（_）；\n",
    "如果类中的变量和函数，其名称以双下划线“__”开头，则该变量（函数）为私有变量（私有函数），其属性等同于 private"
   ]
  },
  {
   "cell_type": "markdown",
   "id": "92542970",
   "metadata": {},
   "source": [
    "还可以定义以单下划线“_”开头的类属性或者类方法（例如 _name、_display(self)），这种类属性和类方法通常被视为私有属性和私有方法，虽然它们也能通过类对象正常访问，但这是一种约定俗称的用法，初学者一定要遵守"
   ]
  },
  {
   "cell_type": "code",
   "execution_count": 26,
   "id": "0904173d",
   "metadata": {},
   "outputs": [
    {
     "name": "stdout",
     "output_type": "stream",
     "text": [
      "C语言中文网\n",
      "http://c.biancheng.net\n"
     ]
    }
   ],
   "source": [
    "class CLanguage :\n",
    "    def setname(self, name):\n",
    "        if len(name) < 3:\n",
    "            raise ValueError('名称长度必须大于3！')\n",
    "        self.__name = name\n",
    "    def getname(self):\n",
    "        return self.__name\n",
    "    #为 name 配置 setter 和 getter 方法\n",
    "    name = property(getname, setname)\n",
    "    def setadd(self, add):\n",
    "        if add.startswith(\"http://\"):\n",
    "            self.__add = add\n",
    "        else:\n",
    "            raise ValueError('地址必须以 http:// 开头') \n",
    "    def getadd(self):\n",
    "        return self.__add\n",
    "   \n",
    "    #为 add 配置 setter 和 getter 方法\n",
    "    add = property(getadd, setadd)\n",
    "    #定义个私有方法\n",
    "    def __display(self):\n",
    "        print(self.__name,self.__add)\n",
    "\n",
    "clang = CLanguage()\n",
    "clang.name = \"C语言中文网\"\n",
    "clang.add = \"http://c.biancheng.net\"\n",
    "print(clang.name)\n",
    "print(clang.add)"
   ]
  },
  {
   "cell_type": "code",
   "execution_count": 27,
   "id": "cd54c86e",
   "metadata": {},
   "outputs": [
    {
     "ename": "AttributeError",
     "evalue": "'CLanguage' object has no attribute '__display'",
     "output_type": "error",
     "traceback": [
      "\u001b[1;31m---------------------------------------------------------------------------\u001b[0m",
      "\u001b[1;31mAttributeError\u001b[0m                            Traceback (most recent call last)",
      "\u001b[1;32m~\\AppData\\Local\\Temp/ipykernel_48604/809380234.py\u001b[0m in \u001b[0;36m<module>\u001b[1;34m\u001b[0m\n\u001b[0;32m      1\u001b[0m \u001b[1;31m#尝试调用私有的 display() 方法\u001b[0m\u001b[1;33m\u001b[0m\u001b[1;33m\u001b[0m\u001b[0m\n\u001b[1;32m----> 2\u001b[1;33m \u001b[0mclang\u001b[0m\u001b[1;33m.\u001b[0m\u001b[0m__display\u001b[0m\u001b[1;33m(\u001b[0m\u001b[1;33m)\u001b[0m\u001b[1;33m\u001b[0m\u001b[1;33m\u001b[0m\u001b[0m\n\u001b[0m",
      "\u001b[1;31mAttributeError\u001b[0m: 'CLanguage' object has no attribute '__display'"
     ]
    }
   ],
   "source": [
    "#尝试调用私有的 display() 方法\n",
    "clang.__display()"
   ]
  },
  {
   "cell_type": "markdown",
   "id": "e718a06d",
   "metadata": {},
   "source": [
    "CLanguage 类中还有一个 __display() 方法，由于该类方法为私有（private）方法，且该类没有提供操作该私有方法的“窗口”，因此我们无法在类的外部使用它。换句话说，如下调用 __display() 方法是不可行的："
   ]
  },
  {
   "cell_type": "markdown",
   "id": "5d84610a",
   "metadata": {},
   "source": [
    "# EX 人狗大战"
   ]
  },
  {
   "cell_type": "code",
   "execution_count": 1,
   "id": "85c73c73",
   "metadata": {},
   "outputs": [],
   "source": [
    "class Dog:\n",
    "    role = 'dog'\n",
    "    def __init__(self,name,breed,attack):\n",
    "        self.name = name\n",
    "        self.breed = breed\n",
    "        self.attack = attack\n",
    "        self.life_value = 100\n",
    "        \n",
    "    def bite(self, person):\n",
    "        person.life_value -= self.attack\n",
    "        print(\"Dog{} bite man{},人掉血{}，人还剩{}\".format(self.name,person.name,self.attack,person.life_value))\n",
    "        \n",
    "        \n",
    "class Man:\n",
    "    role = 'man'\n",
    "    def __init__(self,name,sex,attack):\n",
    "        self.name = name\n",
    "        self.sex = sex\n",
    "        self.attack = attack\n",
    "        self.life_value = 100\n",
    "        \n",
    "    def beat(self, dog):\n",
    "        dog.life_value -= self.attack\n",
    "        print(\"Man{} beat dog{},狗掉血{}，狗还剩{}\".format(self.name,dog.name,self.attack,dog.life_value))"
   ]
  },
  {
   "cell_type": "code",
   "execution_count": 2,
   "id": "65ea7298",
   "metadata": {},
   "outputs": [
    {
     "name": "stdout",
     "output_type": "stream",
     "text": [
      "Mantudou beat dogyuanyuan,狗掉血50，狗还剩50\n",
      "Dogyuanyuan bite mantudou,人掉血30，人还剩70\n"
     ]
    }
   ],
   "source": [
    "d1 = Dog(\"yuanyuan\",\"二哈\",30)\n",
    "d2 = Dog(\"tianlu\",\"藏獒\",30)\n",
    "p1 = Man(\"tudou\",\"M\",50)\n",
    "\n",
    "p1.beat(d1)\n",
    "d1.bite(p1)"
   ]
  },
  {
   "cell_type": "markdown",
   "id": "185dfe58",
   "metadata": {},
   "source": [
    "# 类与类之间关系"
   ]
  },
  {
   "cell_type": "markdown",
   "id": "92139b44",
   "metadata": {},
   "source": [
    "## 依赖关系"
   ]
  },
  {
   "cell_type": "code",
   "execution_count": 6,
   "id": "d492749c",
   "metadata": {},
   "outputs": [],
   "source": [
    "class Dog:\n",
    "    def __init__(self,name,age,breed,master):\n",
    "        self.name = name\n",
    "        self.age = age\n",
    "        self.breed = breed\n",
    "        self.master = master#一个对象\n",
    "        self.say_hi()\n",
    "        \n",
    "    def say_hi(self):\n",
    "        print(\"我叫{}，今年{}岁，我的主人是{}\".format(self.name,self.age,self.master.name))\n",
    "        \n",
    "\n",
    "class Person:\n",
    "    def __init__(self, name,age,sex):\n",
    "        self.name = name\n",
    "        self.age = age\n",
    "        self.sex = sex\n"
   ]
  },
  {
   "cell_type": "code",
   "execution_count": 7,
   "id": "d010ba63",
   "metadata": {},
   "outputs": [
    {
     "name": "stdout",
     "output_type": "stream",
     "text": [
      "我叫Yuanyuan，今年12岁，我的主人是Tianlu\n"
     ]
    }
   ],
   "source": [
    "p1 = Person(\"Tianlu\",24,\"M\")\n",
    "d1 = Dog(\"Yuanyuan\",12,\"泰迪\",p1)"
   ]
  },
  {
   "cell_type": "markdown",
   "id": "317fc7a0",
   "metadata": {},
   "source": [
    "## 关联关系"
   ]
  },
  {
   "cell_type": "code",
   "execution_count": 37,
   "id": "a9b8e57f",
   "metadata": {},
   "outputs": [],
   "source": [
    "class RelationShip:\n",
    "    \"\"\"\n",
    "    保存关系\n",
    "    \"\"\"\n",
    "    def __init__(self):\n",
    "        self.couple = []\n",
    "    \n",
    "    def make_couple(self,obj1,obj2):\n",
    "        self.couple = [obj1,obj2]\n",
    "        print(\"[{}]和[{}]成了对象\".format(obj1.name,obj2.name))\n",
    "        \n",
    "    def get_my_partern(self,obj):\n",
    "        print(\"找{}的对象\".format(obj.name))\n",
    "        for i in self.couple:\n",
    "            if i != obj:\n",
    "                return i\n",
    "        else:\n",
    "            print(\"无对象\")\n",
    "            \n",
    "    def break_up(self):\n",
    "        self.couple.clear()\n",
    "            \n",
    "class Person:\n",
    "    def __init__(self, name,age,sex,relation):\n",
    "        self.name = name\n",
    "        self.age = age\n",
    "        self.sex = sex\n",
    "        self.relation = relation #每个人的实例存储 关系对象\n",
    "        #self.partener = None #一个对象，是另一半\n",
    "        \n",
    "    def do_private_stuff(self):\n",
    "        pass"
   ]
  },
  {
   "cell_type": "code",
   "execution_count": 41,
   "id": "0e211fa9",
   "metadata": {},
   "outputs": [
    {
     "name": "stdout",
     "output_type": "stream",
     "text": [
      "[ALU]和[Yuan]成了对象\n",
      "找ALU的对象\n",
      "找Yuan的对象\n",
      "无对象\n"
     ]
    }
   ],
   "source": [
    "relation_obj = RelationShip()\n",
    "p1 = Person(\"ALU\",15,\"M\",relation_obj)\n",
    "p2 = Person(\"Yuan\",15,\"F\",relation_obj)\n",
    "\n",
    "relation_obj.make_couple(p1,p2) #让两人成为对象\n",
    "p1.relation.get_my_partern(p1).name  #拿到TIANlu对象\n",
    "\n",
    "p1.relation.break_up()\n",
    "\n",
    "p2.relation.get_my_partern(p2)"
   ]
  },
  {
   "cell_type": "markdown",
   "id": "b55e545d",
   "metadata": {},
   "source": [
    "## 组合关系"
   ]
  },
  {
   "cell_type": "code",
   "execution_count": 1,
   "id": "57ea6057",
   "metadata": {},
   "outputs": [],
   "source": [
    "#由一堆组件构成一个完整的实体，组件独立，但又不能自己运行"
   ]
  },
  {
   "cell_type": "code",
   "execution_count": 12,
   "id": "642d9561",
   "metadata": {},
   "outputs": [],
   "source": [
    "class Dog:\n",
    "    role = 'dog'\n",
    "    def __init__(self,name,breed,attack):\n",
    "        self.name = name\n",
    "        self.breed = breed\n",
    "        self.attack = attack\n",
    "        self.life_value = 100\n",
    "        \n",
    "    def bite(self, person):\n",
    "        person.life_value -= self.attack\n",
    "        print(\"Dog{} bite man{},人掉血{}，人还剩{}\".format(self.name,person.name,self.attack,person.life_value))\n",
    "\n",
    "        \n",
    "class Weapon:\n",
    "    def dog_stick(self,obj):\n",
    "        \"\"\"打狗棒\"\"\"\n",
    "        self.name = \"打狗棒\"\n",
    "        self.attack = 40\n",
    "        obj.life_value -= self.attack\n",
    "        self.print_log(obj)\n",
    "        \n",
    "    def knife(self,obj):\n",
    "        \"\"\"大刀\"\"\"\n",
    "        self.name = \"大刀\"\n",
    "        self.attack = 80\n",
    "        obj.life_value -= self.attack\n",
    "        self.print_log(obj)   \n",
    "        \n",
    "    def print_log(self,obj):\n",
    "        print(\"{}被{}攻击，掉血{}还剩{}\".format(obj.name,self.name,self.attack,obj.life_value))        \n",
    "        \n",
    "class Man:\n",
    "    role = 'man'\n",
    "    def __init__(self,name,sex,attack):\n",
    "        self.name = name\n",
    "        self.sex = sex\n",
    "#         self.attack = attack\n",
    "        self.life_value = 100\n",
    "        self.weapon = Weapon()#直接实例化\n",
    "        \n",
    "    def beat(self, dog):\n",
    "        dog.life_value -= self.attack\n",
    "        print(\"Man{} beat dog{},狗掉血{}，狗还剩{}\".format(self.name,dog.name,self.attack,dog.life_value))\n",
    "        \n"
   ]
  },
  {
   "cell_type": "code",
   "execution_count": 13,
   "id": "af272c1a",
   "metadata": {},
   "outputs": [
    {
     "name": "stdout",
     "output_type": "stream",
     "text": [
      "DogYY bite manalugg,人掉血30，人还剩70\n",
      "YY被大刀攻击，掉血80还剩20\n"
     ]
    }
   ],
   "source": [
    "d = Dog(\"YY\",\"二哈\",30)\n",
    "p = Man(\"alugg\",\"M\",50)\n",
    "d.bite(p)\n",
    "p.weapon.knife(d)"
   ]
  },
  {
   "cell_type": "markdown",
   "id": "eedee1dc",
   "metadata": {},
   "source": [
    "# 继承"
   ]
  },
  {
   "cell_type": "code",
   "execution_count": 29,
   "id": "80517c09",
   "metadata": {},
   "outputs": [],
   "source": [
    "class Animal:\n",
    "    a_type = \"哺乳动物\"\n",
    "    def __init__(self,name,age,sex):\n",
    "        self.name = name\n",
    "        self.age = age\n",
    "        self.sex = sex\n",
    "        \n",
    "    def eating(self):\n",
    "        print(\"{}is eating\".format(self.name))\n",
    "        \n",
    "class Human(Animal):\n",
    "    a_type = \"高等哺乳动物\"\n",
    "    def __init__(self,name,age,sex,hobby):\n",
    "        super().__init__(name,age,sex) #继承父类构造函数\n",
    "        self.hobby = hobby\n",
    "        \n",
    "    def talk(self):\n",
    "        print(\"{}is talking\".format(self.name))\n",
    "        \n",
    "    def eating(self):\n",
    "#         Animal.eating(self) #如果想在子类执行父类的方法\n",
    "        super().eating() #同上 执行父类的方法\n",
    "        print(\"人在优雅的吃\")"
   ]
  },
  {
   "cell_type": "code",
   "execution_count": 30,
   "id": "34c3a45f",
   "metadata": {},
   "outputs": [
    {
     "name": "stdout",
     "output_type": "stream",
     "text": [
      "Aluggis eating\n",
      "人在优雅的吃\n"
     ]
    }
   ],
   "source": [
    "p1 = Human(\"Alugg\",12,\"M\",\"YUANYUAN\")\n",
    "p1.eating()"
   ]
  },
  {
   "cell_type": "markdown",
   "id": "9de1df7b",
   "metadata": {},
   "source": [
    "# 多继承 Multiple Inheritance"
   ]
  },
  {
   "cell_type": "markdown",
   "id": "d364d3b2",
   "metadata": {},
   "source": [
    "菱形继承，子类继承顺序，默认从左到右。广度优先"
   ]
  },
  {
   "cell_type": "code",
   "execution_count": 59,
   "id": "32583229",
   "metadata": {},
   "outputs": [],
   "source": [
    "class Base:\n",
    "    def fight(self):\n",
    "        print(\"dongwudajia\")\n",
    "\n",
    "class ShenXianBase(Base):\n",
    "    def fight(self):\n",
    "        print(\"原神在打架\")\n",
    "\n",
    "class ShenXian(ShenXianBase):\n",
    "    \"\"\"神仙类\"\"\"\n",
    "    def fly(self):\n",
    "        print(\"神仙都会飞\")\n",
    "    \n",
    "    def fight(self):\n",
    "        print(\"神仙在打架\")\n",
    "\n",
    "\n",
    "class MonkeyBase(Base):\n",
    "    pass\n",
    "#     def fight(self):\n",
    "#         print(\"猿猴在打架\")\n",
    "\n",
    "class Monkey(MonkeyBase):\n",
    "    def eat_peach(self):\n",
    "        print(\"猴子喜欢吃桃\")\n",
    "    \n",
    "#     def fight(self):\n",
    "#         print(\"猴子在打架\")\n",
    "        \n",
    "class MonkeyKing(Monkey,ShenXian):\n",
    "    def play_golden_stick(self):\n",
    "        print(\"美猴王玩金箍棒\")"
   ]
  },
  {
   "cell_type": "code",
   "execution_count": 60,
   "id": "010c64ed",
   "metadata": {},
   "outputs": [
    {
     "name": "stdout",
     "output_type": "stream",
     "text": [
      "美猴王玩金箍棒\n",
      "神仙都会飞\n",
      "猴子喜欢吃桃\n",
      "神仙在打架\n"
     ]
    }
   ],
   "source": [
    "m = MonkeyKing()\n",
    "m.play_golden_stick()\n",
    "m.fly()\n",
    "m.eat_peach()\n",
    "m.fight() #按照顺序从左到右继承"
   ]
  },
  {
   "cell_type": "markdown",
   "id": "ed7fdd60",
   "metadata": {},
   "source": [
    "## C3算法"
   ]
  },
  {
   "attachments": {
    "image.png": {
     "image/png": "[encoded data removed]"
    }
   },
   "cell_type": "markdown",
   "id": "aaa03dca",
   "metadata": {},
   "source": [
    "![image.png](attachment:image.png)"
   ]
  },
  {
   "cell_type": "code",
   "execution_count": 64,
   "id": "23742ee9",
   "metadata": {},
   "outputs": [],
   "source": [
    "class A:\n",
    "    def test(self):\n",
    "        print('from A')\n",
    "        \n",
    "class B(A):\n",
    "    #def test(self):\n",
    "    #   print('from B')\n",
    "    pass\n",
    "\n",
    "class B2:\n",
    "    def test(self):\n",
    "        print('from B2')\n",
    "\n",
    "class C(A):\n",
    "    def test(self):\n",
    "        print('from C')\n",
    "        \n",
    "class C2:\n",
    "    def test(self):\n",
    "        print('from C2')\n",
    "        \n",
    "class D(B,B2):\n",
    "    #def test(self):\n",
    "    #print(\"from D\")\n",
    "    pass\n",
    "\n",
    "class E(C,C2):\n",
    "    def test(self):\n",
    "        print('from E')\n",
    "\n",
    "        \n",
    "class F(D,E):\n",
    "    #def test(self):\n",
    "    #print(\"from F\")\n",
    "    pass"
   ]
  },
  {
   "cell_type": "code",
   "execution_count": 67,
   "id": "1acab9b2",
   "metadata": {},
   "outputs": [
    {
     "name": "stdout",
     "output_type": "stream",
     "text": [
      "from C\n",
      "[<class '__main__.F'>, <class '__main__.D'>, <class '__main__.B'>, <class '__main__.E'>, <class '__main__.C'>, <class '__main__.A'>, <class '__main__.B2'>, <class '__main__.C2'>, <class 'object'>]\n"
     ]
    }
   ],
   "source": [
    "f1 = F()\n",
    "f1.test()\n",
    "print(F.mro())#继承顺序"
   ]
  },
  {
   "cell_type": "markdown",
   "id": "2e4526c3",
   "metadata": {},
   "source": [
    "# 封装"
   ]
  },
  {
   "cell_type": "code",
   "execution_count": 76,
   "id": "56db0ac9",
   "metadata": {},
   "outputs": [],
   "source": [
    "class Person:\n",
    "    def __init__(self,name,age):\n",
    "        self.name = name\n",
    "        self.age = age\n",
    "        self.__life_val = 100 #私有变量\n",
    "        \n",
    "    def get_life_val(self):\n",
    "        print(\"life val\",self.__life_val)\n",
    "        return self.__life_val\n",
    "    \n",
    "    def __breath(self):\n",
    "        print(\"{} is breathing\".format(self.name))\n",
    "    \n",
    "    def got_attack(self): #私有属性变方法\n",
    "        self.__life_val -=20\n",
    "        print(\"get attacked \")\n",
    "        self.__breath()\n",
    "        return self.__life_val"
   ]
  },
  {
   "cell_type": "code",
   "execution_count": 77,
   "id": "0cf2b31a",
   "metadata": {},
   "outputs": [
    {
     "name": "stdout",
     "output_type": "stream",
     "text": [
      "life val 100\n",
      "get attacked \n",
      "Alex is breathing\n"
     ]
    },
    {
     "data": {
      "text/plain": [
       "80"
      ]
     },
     "execution_count": 77,
     "metadata": {},
     "output_type": "execute_result"
    }
   ],
   "source": [
    "p = Person(\"Alex\",20)\n",
    "p.get_life_val()\n",
    "p.got_attack()"
   ]
  },
  {
   "cell_type": "markdown",
   "id": "0b576885",
   "metadata": {},
   "source": [
    "强行访问 实例名._类名+方法/变量名()"
   ]
  },
  {
   "cell_type": "code",
   "execution_count": 79,
   "id": "a9db01b9",
   "metadata": {},
   "outputs": [
    {
     "ename": "AttributeError",
     "evalue": "'Person' object has no attribute '__breath'",
     "output_type": "error",
     "traceback": [
      "\u001b[1;31m---------------------------------------------------------------------------\u001b[0m",
      "\u001b[1;31mAttributeError\u001b[0m                            Traceback (most recent call last)",
      "\u001b[1;32m~\\AppData\\Local\\Temp/ipykernel_34668/979391194.py\u001b[0m in \u001b[0;36m<module>\u001b[1;34m\u001b[0m\n\u001b[1;32m----> 1\u001b[1;33m \u001b[0mp\u001b[0m\u001b[1;33m.\u001b[0m\u001b[0m__breath\u001b[0m\u001b[1;33m(\u001b[0m\u001b[1;33m)\u001b[0m\u001b[1;33m\u001b[0m\u001b[1;33m\u001b[0m\u001b[0m\n\u001b[0m",
      "\u001b[1;31mAttributeError\u001b[0m: 'Person' object has no attribute '__breath'"
     ]
    }
   ],
   "source": [
    "p.__breath()"
   ]
  },
  {
   "cell_type": "code",
   "execution_count": 78,
   "id": "1414b23f",
   "metadata": {},
   "outputs": [
    {
     "name": "stdout",
     "output_type": "stream",
     "text": [
      "Alex is breathing\n"
     ]
    }
   ],
   "source": [
    "p._Person__breath()"
   ]
  },
  {
   "cell_type": "code",
   "execution_count": 80,
   "id": "7eb5d3e8",
   "metadata": {},
   "outputs": [
    {
     "name": "stdout",
     "output_type": "stream",
     "text": [
      "life val 200\n"
     ]
    },
    {
     "data": {
      "text/plain": [
       "200"
      ]
     },
     "execution_count": 80,
     "metadata": {},
     "output_type": "execute_result"
    }
   ],
   "source": [
    "p._Person__life_val = 200\n",
    "p.get_life_val()"
   ]
  },
  {
   "cell_type": "code",
   "execution_count": 82,
   "id": "6df7d2ce",
   "metadata": {},
   "outputs": [
    {
     "data": {
      "text/plain": [
       "150"
      ]
     },
     "execution_count": 82,
     "metadata": {},
     "output_type": "execute_result"
    }
   ],
   "source": [
    "p.__val = 150 #实例生成后再添加私有属性是无效的\n",
    "p.__val"
   ]
  },
  {
   "cell_type": "code",
   "execution_count": 85,
   "id": "dd330618",
   "metadata": {},
   "outputs": [
    {
     "ename": "AttributeError",
     "evalue": "'Person' object has no attribute '__hh'",
     "output_type": "error",
     "traceback": [
      "\u001b[1;31m---------------------------------------------------------------------------\u001b[0m",
      "\u001b[1;31mAttributeError\u001b[0m                            Traceback (most recent call last)",
      "\u001b[1;32m~\\AppData\\Local\\Temp/ipykernel_34668/2523162550.py\u001b[0m in \u001b[0;36m<module>\u001b[1;34m\u001b[0m\n\u001b[0;32m      1\u001b[0m \u001b[0mp\u001b[0m\u001b[1;33m.\u001b[0m\u001b[0m_Person__hh\u001b[0m\u001b[1;33m=\u001b[0m\u001b[1;36m999\u001b[0m \u001b[1;31m#这样添加私有属性才对\u001b[0m\u001b[1;33m\u001b[0m\u001b[1;33m\u001b[0m\u001b[0m\n\u001b[1;32m----> 2\u001b[1;33m \u001b[0mp\u001b[0m\u001b[1;33m.\u001b[0m\u001b[0m__hh\u001b[0m\u001b[1;33m\u001b[0m\u001b[1;33m\u001b[0m\u001b[0m\n\u001b[0m",
      "\u001b[1;31mAttributeError\u001b[0m: 'Person' object has no attribute '__hh'"
     ]
    }
   ],
   "source": [
    "p._Person__hh=999 #这样添加私有属性才对\n",
    "p.__hh"
   ]
  },
  {
   "cell_type": "markdown",
   "id": "923d2419",
   "metadata": {},
   "source": [
    "# 多态 Polymorphism"
   ]
  },
  {
   "cell_type": "markdown",
   "id": "b3c656f7",
   "metadata": {},
   "source": [
    "## 通过统一函数接口实现多态"
   ]
  },
  {
   "cell_type": "code",
   "execution_count": 86,
   "id": "1d352744",
   "metadata": {},
   "outputs": [],
   "source": [
    "class Dog:\n",
    "    def sound(self):\n",
    "        print(\"wangwang\")\n",
    "\n",
    "class Cat:\n",
    "    def sound(self):\n",
    "        print(\"miaomiao\")\n",
    "        \n",
    "def make_sound(animal_type):\n",
    "    animal_type.sound()"
   ]
  },
  {
   "cell_type": "code",
   "execution_count": 87,
   "id": "189e1838",
   "metadata": {},
   "outputs": [],
   "source": [
    "dogObj = Dog()\n",
    "catObj = Cat()"
   ]
  },
  {
   "cell_type": "code",
   "execution_count": 89,
   "id": "a9367667",
   "metadata": {},
   "outputs": [
    {
     "name": "stdout",
     "output_type": "stream",
     "text": [
      "wangwang\n",
      "miaomiao\n"
     ]
    }
   ],
   "source": [
    "make_sound(dogObj)\n",
    "make_sound(catObj)"
   ]
  },
  {
   "cell_type": "markdown",
   "id": "098c843e",
   "metadata": {},
   "source": [
    "## 抽象类实现（最常用）"
   ]
  },
  {
   "cell_type": "code",
   "execution_count": 90,
   "id": "0a50bfa9",
   "metadata": {},
   "outputs": [],
   "source": [
    "class Document:\n",
    "    def __init__(self,name):\n",
    "        self.name = name\n",
    "        \n",
    "    def show(self):\n",
    "        raise NotImplementedError(\"Subclass must implement abstract method\")\n",
    "        \n",
    "class Pdf(Document):\n",
    "    def show(self):\n",
    "        return \"Show pdf contents!\"\n",
    "\n",
    "class Word(Document):\n",
    "    def show(self):\n",
    "        return \"Show Word contents!\"    "
   ]
  },
  {
   "cell_type": "code",
   "execution_count": 92,
   "id": "26a5c965",
   "metadata": {},
   "outputs": [
    {
     "name": "stdout",
     "output_type": "stream",
     "text": [
      "Show pdf contents!\n",
      "Show Word contents!\n"
     ]
    }
   ],
   "source": [
    "pdf_obj = Pdf(\"哈.pdf\")\n",
    "word_obj = Word(\"ha.doc\")\n",
    "\n",
    "objs = [pdf_obj, word_obj]\n",
    "for o in objs:\n",
    "    print(o.show())"
   ]
  },
  {
   "cell_type": "markdown",
   "id": "9f8badb3",
   "metadata": {},
   "source": [
    "# 校园系统"
   ]
  },
  {
   "cell_type": "code",
   "execution_count": 164,
   "id": "c536e87f",
   "metadata": {},
   "outputs": [],
   "source": [
    "import datetime\n",
    "class School:\n",
    "    \"\"\"总部\"\"\"\n",
    "    def __init__(self,name,addr,web):\n",
    "        self.name = name\n",
    "        self.addr = addr\n",
    "        self.web = web\n",
    "        self.balance = 0\n",
    "        self.braches = []\n",
    "        self.class_list = []\n",
    "        self.staff_list = []\n",
    "        print(\"创建了校区{}地址{}\".format(name,addr))\n",
    "    \n",
    "    def count_stu_num(self):\n",
    "        pass\n",
    "    \n",
    "    def count_staff_num(self):\n",
    "        pass\n",
    "    \n",
    "    def staff_enrollment(self,staff_obj):\n",
    "        self.staff_list.append(staff_obj)\n",
    "        print(\"{}入职新员工{},postion{},salary{}\".format(self.name,staff_obj.name,staff_obj.position,staff_obj.salary))\n",
    "        \n",
    "    def count_class_num(self):\n",
    "        for i in self.braches:\n",
    "            print(i.name,i.class_list)\n",
    "        \n",
    "        \n",
    "    def count_total_revenu(self):\n",
    "        print(\"总收入\")\n",
    "        total_rev = self.balance\n",
    "        print(self.name,self.balance)\n",
    "        for b in self.braches:\n",
    "            print(b.name,b.balance)\n",
    "            total_rev += b.balance\n",
    "        print(total_rev)\n",
    "                \n",
    "    def pay_salary(self):\n",
    "        print(\"发工资\")\n",
    "        for i in self.staff_list:\n",
    "            i.balance += i.salary\n",
    "            self.balance -= i.salary\n",
    "            print(i.name, i.salary,i.balance)\n",
    "        print(self.name,self.balance)\n",
    "    \n",
    "    \n",
    "class BranchSchool(School):\n",
    "    \"\"\"分校\"\"\"\n",
    "    def __init__(self,name,addr,web,headquarter_obj):\n",
    "        super().__init__(name,addr,web)\n",
    "        self.headquarter = headquarter_obj\n",
    "        self.headquarter.braches.append(self)\n",
    "    "
   ]
  },
  {
   "cell_type": "code",
   "execution_count": 165,
   "id": "fe2c2e31",
   "metadata": {},
   "outputs": [],
   "source": [
    "class Course:\n",
    "    \"\"\"课程类\"\"\"\n",
    "    def __init__(self,name,price,outline):\n",
    "        self.name = name\n",
    "        self.price = price\n",
    "        self.outline = outline\n",
    "        print(\"创建了课程{}学费{}\".format(name,price))\n",
    "        \n",
    "class Class:\n",
    "    \"\"\"班级\"\"\"\n",
    "    def __init__(self,course_obj,semester,school_obj):\n",
    "        self.course_obj = course_obj\n",
    "        self.semester = semester\n",
    "        self.school_obj = school_obj\n",
    "        self.stu_list = []\n",
    "        \n",
    "        school_obj.class_list.append(self)\n",
    "        print(\"校区{}创建了班级{}，学期{}\".format(school_obj.name,course_obj.name,semester))\n",
    "        \n",
    "    def stu_transfer(self, stu_obj,new_class_obj):\n",
    "        \"\"\"\n",
    "        \"\"\"\n",
    "    \n",
    "    def __str__(self):\n",
    "        return \"%s-%s-%s学期\"%(self.school_obj.name,self.course_obj.name,self.semester)\n",
    "    \n",
    "class Staff:\n",
    "    def __init__(self, name,age,balance,salary,position, dept,school_obj):\n",
    "        self.name = name\n",
    "        self.age = age\n",
    "        self.balance = balance\n",
    "        self.salary = salary\n",
    "        self.position = position\n",
    "        self.dept = dept\n",
    "        self.school_obj = school_obj\n",
    "        school_obj.staff_enrollment(self)\n",
    "        \n",
    "    def punch_card(self):\n",
    "        pass\n",
    "    \n",
    "class Teacher(Staff):\n",
    "    \n",
    "    def __init__(self, name,age,balance,salary,position, dept,school_obj,course_obj):\n",
    "        super().__init__(name,age,balance,salary,position, dept,school_obj)\n",
    "        self.course_obj = course_obj\n",
    "        \n",
    "    def teach_class(self,class_obj,day):\n",
    "        print(\"老师{}正在班级{}上第{}天课\".format(self.name, class_obj,day))\n",
    "        \n",
    "class Student:\n",
    "    def __init__(self,name,age,balance,class_obj):\n",
    "        self.name = name\n",
    "        self.age = age\n",
    "        self.balance = balance\n",
    "        self.class_obj = class_obj\n",
    "        \n",
    "        class_obj.stu_list.append(self)\n",
    "        class_obj.school_obj.balance += class_obj.course_obj.price\n",
    "        self.balance -= class_obj.course_obj.price\n",
    "        print(\"班级{}加入了新成员{}缴费{}\".format(class_obj, name,class_obj.course_obj.price))\n",
    "        \n",
    "    def punch_card(self):\n",
    "        print(\"{}学员在班级{}上课\".format(datetime.datetime.now(),self.class_obj))"
   ]
  },
  {
   "cell_type": "code",
   "execution_count": 166,
   "id": "9e33922d",
   "metadata": {},
   "outputs": [
    {
     "name": "stdout",
     "output_type": "stream",
     "text": [
      "创建了校区老男孩地址昌平沙河\n",
      "创建了校区张江地址上海张江\n",
      "创建了校区虹桥地址上海虹桥火车站\n",
      "创建了校区骑士地址深圳大学城\n",
      "创建了校区路飞学城地址北京长安街\n",
      "创建了课程Python学费21800\n",
      "创建了课程Linux学费19800\n",
      "创建了课程test学费21800\n",
      "创建了课程go学费19800\n",
      "校区老男孩创建了班级Python，学期24\n",
      "校区张江创建了班级Python，学期12\n",
      "校区张江创建了班级Python，学期5\n",
      "校区骑士创建了班级Linux，学期63\n",
      "路飞学城入职新员工Alex,postionCEO,salary4000\n",
      "老男孩入职新员工Todd,postionCEO,salary60000\n",
      "老男孩入职新员工明月,postionRH,salary7000\n",
      "骑士入职新员工alugg,postion讲师,salary30000\n",
      "虹桥入职新员工YY,postion讲师,salary20000\n",
      "老男孩入职新员工JJ,postion学科带头人,salary10000\n",
      "班级老男孩-Python-24学期加入了新成员qq缴费21800\n",
      "班级张江-Python-5学期加入了新成员mm缴费21800\n",
      "班级骑士-Linux-63学期加入了新成员gg缴费19800\n"
     ]
    }
   ],
   "source": [
    "#创建校区\n",
    "headquarter = School(\"老男孩\",\"昌平沙河\",\"oldboy.com\")\n",
    "sh1_school = BranchSchool(\"张江\",\"上海张江\",\"oldboy.com\",headquarter)\n",
    "sh2_school = BranchSchool(\"虹桥\",\"上海虹桥火车站\",\"oldboy.com\",headquarter)\n",
    "sz1 = BranchSchool(\"骑士\",\"深圳大学城\",\"oldboy.com\",headquarter)\n",
    "luffy = BranchSchool(\"路飞学城\",\"北京长安街\",\"oldboy.com\",headquarter)\n",
    "\n",
    "#创建课程\n",
    "py_course = Course(\"Python\",21800,None)\n",
    "linux_course = Course(\"Linux\",19800,None)\n",
    "test_course = Course(\"test\",21800,None)\n",
    "go_course = Course(\"go\",19800,None)\n",
    "\n",
    "#创建班级\n",
    "py_24 = Class(py_course,24, headquarter)\n",
    "py_12 = Class(py_course,12,sh1_school)\n",
    "go_5 = Class(py_course,5,sh1_school)\n",
    "linux_63 = Class(linux_course,63,sz1)\n",
    "\n",
    "#创建员工\n",
    "s1 = Staff(\"Alex\",26,0,4000,\"CEO\",\"总经办\",luffy)\n",
    "s2 = Staff(\"Todd\",45,0,60000,\"CEO\",\"总经办\",headquarter)\n",
    "s3 = Staff(\"明月\",24,0,7000,\"RH\",\"HR\",headquarter)\n",
    "\n",
    "t1 = Teacher(\"alugg\", 28,0,30000,\"讲师\",\"教学部\",sz1,py_course)\n",
    "t2 = Teacher(\"YY\", 28,0,20000,\"讲师\",\"教学部\",sh2_school,go_course)\n",
    "t3 = Teacher(\"JJ\", 28,0,10000,\"学科带头人\",\"教学部\",headquarter, linux_course)\n",
    "\n",
    "stu1 = Student(\"qq\",22,50000,py_24)\n",
    "stu2 = Student(\"mm\",25,30000,go_5)\n",
    "stu3 = Student(\"gg\",28,20000,linux_63)"
   ]
  },
  {
   "cell_type": "code",
   "execution_count": 119,
   "id": "9f065111",
   "metadata": {},
   "outputs": [
    {
     "data": {
      "text/plain": [
       "21800"
      ]
     },
     "execution_count": 119,
     "metadata": {},
     "output_type": "execute_result"
    }
   ],
   "source": [
    "headquarter.balance"
   ]
  },
  {
   "cell_type": "code",
   "execution_count": 138,
   "id": "7bd1652e",
   "metadata": {},
   "outputs": [
    {
     "name": "stdout",
     "output_type": "stream",
     "text": [
      "总收入\n",
      "老男孩 21800\n",
      "张江 21800\n",
      "虹桥 0\n",
      "骑士 19800\n",
      "路飞学城 0\n",
      "63400\n"
     ]
    }
   ],
   "source": [
    "headquarter.count_total_revenu()"
   ]
  },
  {
   "cell_type": "code",
   "execution_count": 153,
   "id": "b98b12ce",
   "metadata": {},
   "outputs": [
    {
     "data": {
      "text/plain": [
       "<bound method School.staff_enrollment of <__main__.School object at 0x000001FA6990B970>>"
      ]
     },
     "execution_count": 153,
     "metadata": {},
     "output_type": "execute_result"
    }
   ],
   "source": [
    "headquarter.staff_enrollment"
   ]
  },
  {
   "cell_type": "code",
   "execution_count": 167,
   "id": "25d3b747",
   "metadata": {},
   "outputs": [
    {
     "name": "stdout",
     "output_type": "stream",
     "text": [
      "发工资\n",
      "Todd 60000 60000\n",
      "明月 7000 7000\n",
      "JJ 10000 10000\n",
      "老男孩 -55200\n"
     ]
    }
   ],
   "source": [
    "headquarter.pay_salary()"
   ]
  },
  {
   "cell_type": "markdown",
   "id": "704cccc6",
   "metadata": {},
   "source": [
    "# 反射"
   ]
  },
  {
   "cell_type": "markdown",
   "id": "80f4434f",
   "metadata": {},
   "source": [
    "## 类中的反射"
   ]
  },
  {
   "cell_type": "markdown",
   "id": "b38dfea3",
   "metadata": {},
   "source": [
    "通过字符串的形式来操作对象的属性"
   ]
  },
  {
   "cell_type": "code",
   "execution_count": 6,
   "id": "71ee9935",
   "metadata": {},
   "outputs": [
    {
     "name": "stdout",
     "output_type": "stream",
     "text": [
      "该类包含这个属性\n"
     ]
    }
   ],
   "source": [
    "class Person():\n",
    "    def __init__(self, name, age):\n",
    "        self.name = name\n",
    "        self.age = age\n",
    "    \n",
    "    def walk(self):\n",
    "        print(\"walking\")\n",
    "        \n",
    "p = Person(\"Alex\", 22)\n",
    "if hasattr(p, \"name\"):\n",
    "    print(\"该类包含这个属性\")"
   ]
  },
  {
   "cell_type": "code",
   "execution_count": 8,
   "id": "72f4524c",
   "metadata": {},
   "outputs": [
    {
     "name": "stdout",
     "output_type": "stream",
     "text": [
      "22\n",
      ">>:walk\n",
      "walking\n",
      "female\n",
      "Alex is speaking\n"
     ]
    },
    {
     "ename": "AttributeError",
     "evalue": "'Person' object has no attribute 'age'",
     "output_type": "error",
     "traceback": [
      "\u001b[1;31m---------------------------------------------------------------------------\u001b[0m",
      "\u001b[1;31mAttributeError\u001b[0m                            Traceback (most recent call last)",
      "\u001b[1;32m~\\AppData\\Local\\Temp/ipykernel_55832/1978650715.py\u001b[0m in \u001b[0;36m<module>\u001b[1;34m\u001b[0m\n\u001b[0;32m     24\u001b[0m \u001b[1;31m#delattr()\u001b[0m\u001b[1;33m\u001b[0m\u001b[1;33m\u001b[0m\u001b[0m\n\u001b[0;32m     25\u001b[0m \u001b[0mdelattr\u001b[0m\u001b[1;33m(\u001b[0m\u001b[0mp\u001b[0m\u001b[1;33m,\u001b[0m\u001b[1;34m\"age\"\u001b[0m\u001b[1;33m)\u001b[0m \u001b[1;31m#等价 del p.age\u001b[0m\u001b[1;33m\u001b[0m\u001b[1;33m\u001b[0m\u001b[0m\n\u001b[1;32m---> 26\u001b[1;33m \u001b[0mp\u001b[0m\u001b[1;33m.\u001b[0m\u001b[0mage\u001b[0m\u001b[1;33m\u001b[0m\u001b[1;33m\u001b[0m\u001b[0m\n\u001b[0m",
      "\u001b[1;31mAttributeError\u001b[0m: 'Person' object has no attribute 'age'"
     ]
    }
   ],
   "source": [
    "#反射、映射、自省\n",
    "#getattr() 获得值\n",
    "a = getattr(p,\"age\")\n",
    "print(a)\n",
    "\n",
    "#hasattr()\n",
    "user_command = input(\">>:\").strip()\n",
    "if hasattr(p,user_command):\n",
    "    func = getattr(p,user_command)\n",
    "    func()\n",
    "    \n",
    "#setattr()赋值\n",
    "##静态属性\n",
    "setattr(p, \"sex\",\"female\")\n",
    "print(p.sex)\n",
    "\n",
    "#方法\n",
    "def talk(self):\n",
    "    print(self.name,\"is speaking\")\n",
    "##类加方法\n",
    "setattr(Person,\"speak2\", talk)\n",
    "p.speak2()\n",
    "\n",
    "#delattr()\n",
    "delattr(p,\"age\") #等价 del p.age\n",
    "p.age"
   ]
  },
  {
   "cell_type": "markdown",
   "id": "0f33eae6",
   "metadata": {},
   "source": [
    "## 文件的反射"
   ]
  },
  {
   "cell_type": "markdown",
   "id": "dd7cadc8",
   "metadata": {},
   "source": [
    "直接获得文件中类或对象的情况"
   ]
  },
  {
   "cell_type": "code",
   "execution_count": 4,
   "id": "b0f696bb",
   "metadata": {},
   "outputs": [
    {
     "name": "stdout",
     "output_type": "stream",
     "text": [
      "haha\n"
     ]
    }
   ],
   "source": [
    "if __name__ == \"__main__\": #只有在这个文件主动执行时 会运行以下代码\n",
    "    print(\"haha\")  "
   ]
  },
  {
   "cell_type": "code",
   "execution_count": 9,
   "id": "abd460de",
   "metadata": {},
   "outputs": [
    {
     "name": "stdout",
     "output_type": "stream",
     "text": [
      "<__main__.Person object at 0x000001A3A22D7A00>\n",
      "<__main__.Person object at 0x000001A3A22D7A00>\n"
     ]
    }
   ],
   "source": [
    "import sys\n",
    "mod = sys.modules[__name__]\n",
    "# mod = sys.modules[\"__main__\"]\n",
    "if hasattr(mod,\"p\"):\n",
    "    o =  getattr(mod,\"p\")\n",
    "    print(o)\n",
    "print(p)"
   ]
  },
  {
   "cell_type": "markdown",
   "id": "5b92a92b",
   "metadata": {},
   "source": [
    "## 模态加载模块"
   ]
  },
  {
   "cell_type": "code",
   "execution_count": 11,
   "id": "a96fc715",
   "metadata": {
    "scrolled": true
   },
   "outputs": [
    {
     "ename": "ModuleNotFoundError",
     "evalue": "No module named '模块名'",
     "output_type": "error",
     "traceback": [
      "\u001b[1;31m---------------------------------------------------------------------------\u001b[0m",
      "\u001b[1;31mModuleNotFoundError\u001b[0m                       Traceback (most recent call last)",
      "\u001b[1;32m~\\AppData\\Local\\Temp/ipykernel_55832/2661331970.py\u001b[0m in \u001b[0;36m<module>\u001b[1;34m\u001b[0m\n\u001b[0;32m      1\u001b[0m \u001b[1;32mimport\u001b[0m \u001b[0mimportlib\u001b[0m\u001b[1;33m\u001b[0m\u001b[1;33m\u001b[0m\u001b[0m\n\u001b[0;32m      2\u001b[0m \u001b[1;33m\u001b[0m\u001b[0m\n\u001b[1;32m----> 3\u001b[1;33m \u001b[0mimportlib\u001b[0m\u001b[1;33m.\u001b[0m\u001b[0mimport_module\u001b[0m\u001b[1;33m(\u001b[0m\u001b[1;34m\"模块名\"\u001b[0m\u001b[1;33m)\u001b[0m\u001b[1;33m\u001b[0m\u001b[1;33m\u001b[0m\u001b[0m\n\u001b[0m",
      "\u001b[1;32mD:\\ANACONDA\\lib\\importlib\\__init__.py\u001b[0m in \u001b[0;36mimport_module\u001b[1;34m(name, package)\u001b[0m\n\u001b[0;32m    125\u001b[0m                 \u001b[1;32mbreak\u001b[0m\u001b[1;33m\u001b[0m\u001b[1;33m\u001b[0m\u001b[0m\n\u001b[0;32m    126\u001b[0m             \u001b[0mlevel\u001b[0m \u001b[1;33m+=\u001b[0m \u001b[1;36m1\u001b[0m\u001b[1;33m\u001b[0m\u001b[1;33m\u001b[0m\u001b[0m\n\u001b[1;32m--> 127\u001b[1;33m     \u001b[1;32mreturn\u001b[0m \u001b[0m_bootstrap\u001b[0m\u001b[1;33m.\u001b[0m\u001b[0m_gcd_import\u001b[0m\u001b[1;33m(\u001b[0m\u001b[0mname\u001b[0m\u001b[1;33m[\u001b[0m\u001b[0mlevel\u001b[0m\u001b[1;33m:\u001b[0m\u001b[1;33m]\u001b[0m\u001b[1;33m,\u001b[0m \u001b[0mpackage\u001b[0m\u001b[1;33m,\u001b[0m \u001b[0mlevel\u001b[0m\u001b[1;33m)\u001b[0m\u001b[1;33m\u001b[0m\u001b[1;33m\u001b[0m\u001b[0m\n\u001b[0m\u001b[0;32m    128\u001b[0m \u001b[1;33m\u001b[0m\u001b[0m\n\u001b[0;32m    129\u001b[0m \u001b[1;33m\u001b[0m\u001b[0m\n",
      "\u001b[1;32mD:\\ANACONDA\\lib\\importlib\\_bootstrap.py\u001b[0m in \u001b[0;36m_gcd_import\u001b[1;34m(name, package, level)\u001b[0m\n",
      "\u001b[1;32mD:\\ANACONDA\\lib\\importlib\\_bootstrap.py\u001b[0m in \u001b[0;36m_find_and_load\u001b[1;34m(name, import_)\u001b[0m\n",
      "\u001b[1;32mD:\\ANACONDA\\lib\\importlib\\_bootstrap.py\u001b[0m in \u001b[0;36m_find_and_load_unlocked\u001b[1;34m(name, import_)\u001b[0m\n",
      "\u001b[1;31mModuleNotFoundError\u001b[0m: No module named '模块名'"
     ]
    }
   ],
   "source": [
    "import importlib\n",
    "\n",
    "importlib.import_module(\"模块名\")"
   ]
  },
  {
   "cell_type": "markdown",
   "id": "be431663",
   "metadata": {},
   "source": [
    "## 反射场景"
   ]
  },
  {
   "cell_type": "code",
   "execution_count": 14,
   "id": "a4f62286",
   "metadata": {},
   "outputs": [
    {
     "name": "stdout",
     "output_type": "stream",
     "text": [
      ">>>save\n"
     ]
    },
    {
     "ename": "NameError",
     "evalue": "name 'chosse' is not defined",
     "output_type": "error",
     "traceback": [
      "\u001b[1;31m---------------------------------------------------------------------------\u001b[0m",
      "\u001b[1;31mNameError\u001b[0m                                 Traceback (most recent call last)",
      "\u001b[1;32m~\\AppData\\Local\\Temp/ipykernel_55832/417663813.py\u001b[0m in \u001b[0;36m<module>\u001b[1;34m\u001b[0m\n\u001b[0;32m      9\u001b[0m \u001b[1;32mwhile\u001b[0m \u001b[1;36m1\u001b[0m\u001b[1;33m:\u001b[0m\u001b[1;33m\u001b[0m\u001b[1;33m\u001b[0m\u001b[0m\n\u001b[0;32m     10\u001b[0m     \u001b[0mchoose\u001b[0m \u001b[1;33m=\u001b[0m \u001b[0minput\u001b[0m\u001b[1;33m(\u001b[0m\u001b[1;34m\">>>\"\u001b[0m\u001b[1;33m)\u001b[0m\u001b[1;33m.\u001b[0m\u001b[0mstrip\u001b[0m\u001b[1;33m(\u001b[0m\u001b[1;33m)\u001b[0m\u001b[1;33m\u001b[0m\u001b[1;33m\u001b[0m\u001b[0m\n\u001b[1;32m---> 11\u001b[1;33m     \u001b[1;32mif\u001b[0m \u001b[0mchosse\u001b[0m \u001b[1;33m==\u001b[0m \u001b[1;34m\"login\"\u001b[0m\u001b[1;33m:\u001b[0m\u001b[1;33m\u001b[0m\u001b[1;33m\u001b[0m\u001b[0m\n\u001b[0m\u001b[0;32m     12\u001b[0m         \u001b[0mobj\u001b[0m \u001b[1;33m=\u001b[0m \u001b[0mUser\u001b[0m\u001b[1;33m(\u001b[0m\u001b[1;33m)\u001b[0m\u001b[1;33m\u001b[0m\u001b[1;33m\u001b[0m\u001b[0m\n\u001b[0;32m     13\u001b[0m         \u001b[0mobj\u001b[0m\u001b[1;33m.\u001b[0m\u001b[0mlogin\u001b[0m\u001b[1;33m(\u001b[0m\u001b[1;33m)\u001b[0m\u001b[1;33m\u001b[0m\u001b[1;33m\u001b[0m\u001b[0m\n",
      "\u001b[1;31mNameError\u001b[0m: name 'chosse' is not defined"
     ]
    }
   ],
   "source": [
    "class User:\n",
    "    def login(self):\n",
    "        print(\"login\")\n",
    "    def register(self):\n",
    "        print(\"register\")\n",
    "    def save(self):\n",
    "        print(\"save\")\n",
    "\n",
    "while 1:\n",
    "    choose = input(\">>>\").strip()\n",
    "    if choose == \"login\":\n",
    "        obj = User()\n",
    "        obj.login()\n",
    "    elif choose == \"register\":\n",
    "        obj = User()\n",
    "        obj.register()\n",
    "    elif choose == \"save\":\n",
    "        obj = User()\n",
    "        obj.save()\n",
    "    "
   ]
  },
  {
   "cell_type": "markdown",
   "id": "eaefd739",
   "metadata": {},
   "source": [
    "使用反射"
   ]
  },
  {
   "cell_type": "code",
   "execution_count": null,
   "id": "3502743f",
   "metadata": {},
   "outputs": [
    {
     "name": "stdout",
     "output_type": "stream",
     "text": [
      ">>>save\n",
      "save\n"
     ]
    }
   ],
   "source": [
    "class User:\n",
    "    def login(self):\n",
    "        print(\"login\")\n",
    "    def register(self):\n",
    "        print(\"register\")\n",
    "    def save(self):\n",
    "        print(\"save\")\n",
    "\n",
    "user = User()\n",
    "while 1:\n",
    "    choose = input(\">>>\").strip()\n",
    "    if hasattr(user,choose):\n",
    "        func = getattr(user,choose)\n",
    "        func()\n",
    "    else:\n",
    "        print(\"输入错误\")"
   ]
  },
  {
   "cell_type": "code",
   "execution_count": null,
   "id": "1adcbbcc",
   "metadata": {},
   "outputs": [],
   "source": []
  }
 ],
 "metadata": {
  "kernelspec": {
   "display_name": "Python 3 (ipykernel)",
   "language": "python",
   "name": "python3"
  },
  "language_info": {
   "codemirror_mode": {
    "name": "ipython",
    "version": 3
   },
   "file_extension": ".py",
   "mimetype": "text/x-python",
   "name": "python",
   "nbconvert_exporter": "python",
   "pygments_lexer": "ipython3",
   "version": "3.9.7"
  },
  "toc": {
   "base_numbering": 1,
   "nav_menu": {},
   "number_sections": true,
   "sideBar": true,
   "skip_h1_title": false,
   "title_cell": "Table of Contents",
   "title_sidebar": "Contents",
   "toc_cell": false,
   "toc_position": {
    "height": "calc(100% - 180px)",
    "left": "10px",
    "top": "150px",
    "width": "170px"
   },
   "toc_section_display": true,
   "toc_window_display": true
  },
  "varInspector": {
   "cols": {
    "lenName": 16,
    "lenType": 16,
    "lenVar": 40
   },
   "kernels_config": {
    "python": {
     "delete_cmd_postfix": "",
     "delete_cmd_prefix": "del ",
     "library": "var_list.py",
     "varRefreshCmd": "print(var_dic_list())"
    },
    "r": {
     "delete_cmd_postfix": ") ",
     "delete_cmd_prefix": "rm(",
     "library": "var_list.r",
     "varRefreshCmd": "cat(var_dic_list()) "
    }
   },
   "types_to_exclude": [
    "module",
    "function",
    "builtin_function_or_method",
    "instance",
    "_Feature"
   ],
   "window_display": false
  }
 },
 "nbformat": 4,
 "nbformat_minor": 5
}
